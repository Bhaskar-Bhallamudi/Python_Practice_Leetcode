{
 "cells": [
  {
   "cell_type": "code",
   "execution_count": 3,
   "id": "e859f90c",
   "metadata": {},
   "outputs": [],
   "source": [
    "from typing import List"
   ]
  },
  {
   "cell_type": "markdown",
   "id": "1cc7a8d7",
   "metadata": {},
   "source": [
    "#### Single Number"
   ]
  },
  {
   "cell_type": "code",
   "execution_count": 1,
   "id": "38b3eb66",
   "metadata": {},
   "outputs": [],
   "source": [
    "class Solution(object):\n",
    "    def singleNumber(self, nums):\n",
    "        for i in range(len(nums)+1):       \n",
    "            if nums.count(nums[i]) == 1 :\n",
    "                return nums[i]\n",
    "            else:\n",
    "                continue\n",
    "        return 0"
   ]
  },
  {
   "cell_type": "code",
   "execution_count": null,
   "id": "afa67dd4",
   "metadata": {},
   "outputs": [],
   "source": []
  },
  {
   "cell_type": "markdown",
   "id": "7c2c57a2",
   "metadata": {},
   "source": [
    "#### Sort Integers by The Number of 1 Bits"
   ]
  },
  {
   "cell_type": "code",
   "execution_count": 6,
   "id": "e6fe4019",
   "metadata": {},
   "outputs": [],
   "source": [
    "class Solution:\n",
    "    def sortByBits(self, arr: List[int]) -> List[int]:\n",
    "        return sorted(arr, key=lambda x: (x.bit_count(), x))"
   ]
  },
  {
   "cell_type": "code",
   "execution_count": null,
   "id": "0a621068",
   "metadata": {},
   "outputs": [],
   "source": []
  },
  {
   "cell_type": "markdown",
   "id": "986d5789",
   "metadata": {},
   "source": [
    "#### Single Number III"
   ]
  },
  {
   "cell_type": "code",
   "execution_count": 7,
   "id": "84be8835",
   "metadata": {},
   "outputs": [],
   "source": [
    "class Solution:\n",
    "    def singleNumber(self, nums: List[int]) -> List[int]:\n",
    "            Num_set = set()\n",
    "            for num in nums:\n",
    "                if num in Num_set:\n",
    "                    Num_set.remove(num)\n",
    "                else:\n",
    "                    Num_set.add(num)\n",
    "            return Num_set"
   ]
  },
  {
   "cell_type": "code",
   "execution_count": null,
   "id": "dc8aea1b",
   "metadata": {},
   "outputs": [],
   "source": []
  },
  {
   "cell_type": "markdown",
   "id": "e901e8c5",
   "metadata": {},
   "source": [
    "#### Subsets"
   ]
  },
  {
   "cell_type": "code",
   "execution_count": 8,
   "id": "cb377be4",
   "metadata": {},
   "outputs": [],
   "source": [
    "class Solution:\n",
    "    def subsets(self, nums: List[int]) -> List[List[int]]:\n",
    "        n=len(nums)\n",
    "        final=[]\n",
    "        def form(idx,lst):\n",
    "            if idx>=n:\n",
    "                final.append(lst)\n",
    "                return \n",
    "            form(idx+1,lst)                    \n",
    "            form(idx+1,lst+[nums[idx]])        \n",
    "        form(0,[])\n",
    "        return final"
   ]
  },
  {
   "cell_type": "code",
   "execution_count": null,
   "id": "e703eda6",
   "metadata": {},
   "outputs": [],
   "source": []
  }
 ],
 "metadata": {
  "kernelspec": {
   "display_name": "Python 3 (ipykernel)",
   "language": "python",
   "name": "python3"
  },
  "language_info": {
   "codemirror_mode": {
    "name": "ipython",
    "version": 3
   },
   "file_extension": ".py",
   "mimetype": "text/x-python",
   "name": "python",
   "nbconvert_exporter": "python",
   "pygments_lexer": "ipython3",
   "version": "3.9.12"
  }
 },
 "nbformat": 4,
 "nbformat_minor": 5
}
