{
 "cells": [
  {
   "cell_type": "code",
   "execution_count": 3,
   "id": "52109369",
   "metadata": {},
   "outputs": [],
   "source": [
    "from typing import List\n"
   ]
  },
  {
   "cell_type": "markdown",
   "id": "63356a1a",
   "metadata": {},
   "source": [
    "#### Subsets"
   ]
  },
  {
   "cell_type": "code",
   "execution_count": 4,
   "id": "2c07ab1f",
   "metadata": {},
   "outputs": [],
   "source": [
    "class Solution:\n",
    "    def subsets(self, nums: List[int]) -> List[List[int]]:\n",
    "        n=len(nums)\n",
    "        final=[]\n",
    "        def form(idx,lst):\n",
    "            if idx>=n:\n",
    "                final.append(lst)\n",
    "                return \n",
    "            form(idx+1,lst)                   \n",
    "            form(idx+1,lst+[nums[idx]])        \n",
    "        form(0,[])\n",
    "        return final"
   ]
  },
  {
   "cell_type": "markdown",
   "id": "9e541b95",
   "metadata": {},
   "source": [
    "#### Hamming Distance"
   ]
  },
  {
   "cell_type": "code",
   "execution_count": 5,
   "id": "0c8095ef",
   "metadata": {},
   "outputs": [],
   "source": [
    "class Solution:\n",
    "    def hammingDistance(self, b: int, c: int) -> int:\n",
    "        a = b ^ c\n",
    "        \n",
    "        i = a\n",
    "        final = 0\n",
    "        while i > 0:\n",
    "            final += i % 2\n",
    "            i = i // 2\n",
    "        \n",
    "        return final"
   ]
  },
  {
   "cell_type": "markdown",
   "id": "6a0a2154",
   "metadata": {},
   "source": [
    "#### Single Number II"
   ]
  },
  {
   "cell_type": "code",
   "execution_count": 6,
   "id": "2f22f1f0",
   "metadata": {},
   "outputs": [],
   "source": [
    "class Solution:\n",
    "    def singleNumber(self, nums: List[int]) -> int:\n",
    "        dic={}\n",
    "        for i in nums:\n",
    "            if i in dic:\n",
    "                dic[i]+=1\n",
    "            else:\n",
    "                dic[i]=1\n",
    "        for i,j in enumerate(dic):\n",
    "            if dic[j]==1:\n",
    "                return j\n",
    "        "
   ]
  },
  {
   "cell_type": "code",
   "execution_count": null,
   "id": "8a26ff5a",
   "metadata": {},
   "outputs": [],
   "source": []
  }
 ],
 "metadata": {
  "kernelspec": {
   "display_name": "Python 3 (ipykernel)",
   "language": "python",
   "name": "python3"
  },
  "language_info": {
   "codemirror_mode": {
    "name": "ipython",
    "version": 3
   },
   "file_extension": ".py",
   "mimetype": "text/x-python",
   "name": "python",
   "nbconvert_exporter": "python",
   "pygments_lexer": "ipython3",
   "version": "3.9.12"
  }
 },
 "nbformat": 4,
 "nbformat_minor": 5
}
