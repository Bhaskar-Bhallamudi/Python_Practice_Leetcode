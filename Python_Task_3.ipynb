{
 "cells": [
  {
   "cell_type": "code",
   "execution_count": 13,
   "id": "08051cba",
   "metadata": {},
   "outputs": [],
   "source": [
    "from typing import List"
   ]
  },
  {
   "cell_type": "code",
   "execution_count": null,
   "id": "72564102",
   "metadata": {},
   "outputs": [],
   "source": []
  },
  {
   "cell_type": "markdown",
   "id": "52e99339",
   "metadata": {},
   "source": [
    "#### Maximum Product of Two Elements in an Array"
   ]
  },
  {
   "cell_type": "code",
   "execution_count": 14,
   "id": "c75d6cb9",
   "metadata": {},
   "outputs": [],
   "source": [
    "class Solution:\n",
    "    def maxProduct(self, nums: List[int]) -> int:\n",
    "        nums.sort()\n",
    "        mul = (nums[-1]-1) * (nums[-2]-1)\n",
    "        return mul"
   ]
  },
  {
   "cell_type": "code",
   "execution_count": null,
   "id": "cf2b5cec",
   "metadata": {},
   "outputs": [],
   "source": []
  },
  {
   "cell_type": "markdown",
   "id": "caf0bc10",
   "metadata": {},
   "source": [
    "#### Count Number of Teams"
   ]
  },
  {
   "cell_type": "code",
   "execution_count": 15,
   "id": "8abd7bc1",
   "metadata": {},
   "outputs": [],
   "source": [
    "class Solution:\n",
    "    def numTeams(self, rating: List[int]) -> int:\n",
    "        no_ = 0\n",
    "        for i in range(1, len(rating) - 1):\n",
    "            increase, decrease = [0, 0], [0, 0]\n",
    "            for j in range(i):\n",
    "                if rating[j] < rating[i]:\n",
    "                    decrease[0] += 1\n",
    "                else:\n",
    "                    increase[0] += 1\n",
    "            \n",
    "            for k in range(i+1, len(rating)):\n",
    "                if rating[i] < rating[k]:\n",
    "                    decrease[1] += 1\n",
    "                else:\n",
    "                    increase[1] += 1\n",
    "            no_ += decrease[0] * decrease[1] + increase[0] * increase[1]\n",
    "        return no_"
   ]
  },
  {
   "cell_type": "code",
   "execution_count": null,
   "id": "0b56febe",
   "metadata": {},
   "outputs": [],
   "source": []
  },
  {
   "cell_type": "markdown",
   "id": "57eebe5f",
   "metadata": {},
   "source": [
    "#### Number of Students Doing Homework at a Given Time"
   ]
  },
  {
   "cell_type": "code",
   "execution_count": 16,
   "id": "775ce973",
   "metadata": {},
   "outputs": [],
   "source": [
    "class Solution:\n",
    "    def busyStudent(self, startTime: List[int], endTime: List[int], queryTime: int) -> int:\n",
    "        final = 0\n",
    "        for i in range(len(startTime)):\n",
    "            if startTime[i] <= queryTime <= endTime[i]:\n",
    "                final += 1\n",
    "        return final"
   ]
  },
  {
   "cell_type": "code",
   "execution_count": null,
   "id": "03933b52",
   "metadata": {},
   "outputs": [],
   "source": []
  },
  {
   "cell_type": "markdown",
   "id": "710f0122",
   "metadata": {},
   "source": [
    "#### Number of Steps to Reduce a Number to Zero"
   ]
  },
  {
   "cell_type": "code",
   "execution_count": 17,
   "id": "86efa435",
   "metadata": {},
   "outputs": [],
   "source": [
    "class Solution:\n",
    "    def numberOfSteps(self, n: int) -> int:\n",
    "        no_of_steps=0\n",
    "        while n!=0:\n",
    "            if n%2==0:\n",
    "                n/=2\n",
    "                no_of_steps+=1\n",
    "            else:\n",
    "                n-=1\n",
    "                no_of_steps+=1\n",
    "        return no_of_steps"
   ]
  },
  {
   "cell_type": "code",
   "execution_count": null,
   "id": "68780979",
   "metadata": {},
   "outputs": [],
   "source": []
  },
  {
   "cell_type": "markdown",
   "id": "98e1d8a2",
   "metadata": {},
   "source": [
    "#### Counting Bits"
   ]
  },
  {
   "cell_type": "code",
   "execution_count": 18,
   "id": "d3ebe526",
   "metadata": {},
   "outputs": [],
   "source": [
    "class Solution:\n",
    "    def countBits(self, n: int) -> List[int]:\n",
    "        final = [0] * (n + 1)\n",
    "        for i in range(1, n + 1):\n",
    "            final[i] = final[i >> 1] + (i % 2)\n",
    "\n",
    "        return final"
   ]
  },
  {
   "cell_type": "code",
   "execution_count": null,
   "id": "dcdd7041",
   "metadata": {},
   "outputs": [],
   "source": []
  }
 ],
 "metadata": {
  "kernelspec": {
   "display_name": "Python 3 (ipykernel)",
   "language": "python",
   "name": "python3"
  },
  "language_info": {
   "codemirror_mode": {
    "name": "ipython",
    "version": 3
   },
   "file_extension": ".py",
   "mimetype": "text/x-python",
   "name": "python",
   "nbconvert_exporter": "python",
   "pygments_lexer": "ipython3",
   "version": "3.9.12"
  }
 },
 "nbformat": 4,
 "nbformat_minor": 5
}
