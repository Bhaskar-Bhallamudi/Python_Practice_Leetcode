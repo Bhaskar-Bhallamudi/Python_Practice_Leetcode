{
 "cells": [
  {
   "cell_type": "markdown",
   "id": "7acb771f",
   "metadata": {},
   "source": [
    "#### Running Sum of 1d Array"
   ]
  },
  {
   "cell_type": "code",
   "execution_count": 1,
   "id": "c767a832",
   "metadata": {},
   "outputs": [],
   "source": [
    "from typing import List"
   ]
  },
  {
   "cell_type": "code",
   "execution_count": 2,
   "id": "5871deb7",
   "metadata": {},
   "outputs": [],
   "source": [
    "class Solution:\n",
    "    def runningSum(self, nums: List[int]) -> List[int]:\n",
    "        running_sum = [nums[0]] \n",
    "        for i in range(1,len(nums)):\n",
    "            running_sum.append(running_sum[i-1]+nums[i]) \n",
    "        return running_sum"
   ]
  },
  {
   "cell_type": "code",
   "execution_count": null,
   "id": "79d418e3",
   "metadata": {},
   "outputs": [],
   "source": []
  },
  {
   "cell_type": "markdown",
   "id": "87c329a0",
   "metadata": {},
   "source": [
    "#### Shuffle the Array"
   ]
  },
  {
   "cell_type": "code",
   "execution_count": 21,
   "id": "74a90eb3",
   "metadata": {},
   "outputs": [],
   "source": [
    "class Solution:\n",
    "    def shuffle(self, nums, n: int) :\n",
    "        new=[]\n",
    "        for i in range(n):\n",
    "            new+=[nums[i]]\n",
    "            new+=[nums[i+n]]\n",
    "        return new"
   ]
  },
  {
   "cell_type": "code",
   "execution_count": null,
   "id": "6053fda8",
   "metadata": {},
   "outputs": [],
   "source": []
  },
  {
   "cell_type": "markdown",
   "id": "262a138c",
   "metadata": {},
   "source": [
    "#### Kids With the Greatest Number of Candies"
   ]
  },
  {
   "cell_type": "code",
   "execution_count": 24,
   "id": "3e758830",
   "metadata": {},
   "outputs": [],
   "source": [
    "class Solution:\n",
    "    def kidsWithCandies(self, candies, extraCandies: int):\n",
    "        maxi=max(candies)\n",
    "        a=[]\n",
    "        for i in candies:\n",
    "            if i+extraCandies >= maxi:\n",
    "                a.append(True)\n",
    "            else:\n",
    "                a.append(False)\n",
    "        return a"
   ]
  },
  {
   "cell_type": "code",
   "execution_count": null,
   "id": "5ae26c0a",
   "metadata": {},
   "outputs": [],
   "source": []
  }
 ],
 "metadata": {
  "kernelspec": {
   "display_name": "Python 3 (ipykernel)",
   "language": "python",
   "name": "python3"
  },
  "language_info": {
   "codemirror_mode": {
    "name": "ipython",
    "version": 3
   },
   "file_extension": ".py",
   "mimetype": "text/x-python",
   "name": "python",
   "nbconvert_exporter": "python",
   "pygments_lexer": "ipython3",
   "version": "3.9.12"
  }
 },
 "nbformat": 4,
 "nbformat_minor": 5
}
