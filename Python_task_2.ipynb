{
 "cells": [
  {
   "cell_type": "markdown",
   "id": "3e58f84a",
   "metadata": {},
   "source": [
    "#### Defanging an IP Address"
   ]
  },
  {
   "cell_type": "code",
   "execution_count": 49,
   "id": "3aeca1ea",
   "metadata": {},
   "outputs": [],
   "source": [
    "from typing import List"
   ]
  },
  {
   "cell_type": "code",
   "execution_count": 54,
   "id": "5ae2c8d2",
   "metadata": {},
   "outputs": [],
   "source": [
    "class Solution:\n",
    "    def defangIPaddr(self, address: str) -> str:\n",
    "        final =\"\"\n",
    "        for i in address:\n",
    "                if i == \".\":\n",
    "                    final = final + \"[.]\"\n",
    "                else:\n",
    "                    final = final+i\n",
    "        return final"
   ]
  },
  {
   "cell_type": "code",
   "execution_count": null,
   "id": "7993fe2f",
   "metadata": {},
   "outputs": [],
   "source": []
  },
  {
   "cell_type": "markdown",
   "id": "1f9aafe0",
   "metadata": {},
   "source": [
    "#### Find Numbers with Even Number of Digits"
   ]
  },
  {
   "cell_type": "code",
   "execution_count": 53,
   "id": "0be80f84",
   "metadata": {},
   "outputs": [],
   "source": [
    "class Solution:\n",
    "    def findNumbers(self, nums: List[int]) -> int:\n",
    "        count= 0\n",
    "        for i in nums :\n",
    "            if len(str(i)) % 2 == 0 :\n",
    "                count += 1\n",
    "        return count"
   ]
  },
  {
   "cell_type": "code",
   "execution_count": null,
   "id": "6f372a67",
   "metadata": {},
   "outputs": [],
   "source": []
  },
  {
   "cell_type": "markdown",
   "id": "a265ac3e",
   "metadata": {},
   "source": [
    "#### Number of Good Pairs"
   ]
  },
  {
   "cell_type": "code",
   "execution_count": 55,
   "id": "6768274e",
   "metadata": {},
   "outputs": [],
   "source": [
    "class Solution:\n",
    "    def numIdenticalPairs(self, nums: List[int]) -> int:\n",
    "        count=0\n",
    "        for i in range(len(nums)):\n",
    "            for j in range(len(nums)):\n",
    "                if nums[i]==nums[j] and i<j:\n",
    "                    count+=1\n",
    "        return count"
   ]
  },
  {
   "cell_type": "code",
   "execution_count": null,
   "id": "c15f856b",
   "metadata": {},
   "outputs": [],
   "source": []
  },
  {
   "cell_type": "markdown",
   "id": "4f1f623c",
   "metadata": {},
   "source": [
    "#### How Many Numbers Are Smaller Than the Current Number"
   ]
  },
  {
   "cell_type": "code",
   "execution_count": 69,
   "id": "8d644c45",
   "metadata": {},
   "outputs": [],
   "source": [
    "class Solution:\n",
    "    def smallerNumbersThanCurrent(self, nums: List[int]) -> List[int]:\n",
    "        result=[]\n",
    "        for i in range(len(nums)):\n",
    "            count=0\n",
    "            for j in range(len(nums)):\n",
    "                if nums[i]>nums[j]:\n",
    "                    count+=1\n",
    "            result.append(count)    \n",
    "        return result"
   ]
  },
  {
   "cell_type": "code",
   "execution_count": null,
   "id": "6bd29791",
   "metadata": {},
   "outputs": [],
   "source": []
  },
  {
   "cell_type": "markdown",
   "id": "ca22308a",
   "metadata": {},
   "source": [
    "#### Subtract the Product and Sum of Digits of an Integer"
   ]
  },
  {
   "cell_type": "code",
   "execution_count": 103,
   "id": "532e8f63",
   "metadata": {},
   "outputs": [],
   "source": [
    "class Solution:\n",
    "    def subtractProductAndSum(self, n: int) -> int:\n",
    "        lst = [int(i) for i in str(n)]\n",
    "        sum1 = 0\n",
    "        multi = 1\n",
    "        for i in lst:\n",
    "            sum1 = sum1+i\n",
    "            multi = multi *i\n",
    "        return(multi - sum1)"
   ]
  },
  {
   "cell_type": "code",
   "execution_count": null,
   "id": "008a5912",
   "metadata": {},
   "outputs": [],
   "source": []
  },
  {
   "cell_type": "markdown",
   "id": "9bf38a17",
   "metadata": {},
   "source": [
    "#### XOR Operation in an Array"
   ]
  },
  {
   "cell_type": "code",
   "execution_count": null,
   "id": "b89c0364",
   "metadata": {},
   "outputs": [],
   "source": [
    "class Solution:\n",
    "    def xorOperation(self, n: int, start: int) -> int:\n",
    "        xor = 0\n",
    "        for i in range(n):\n",
    "            xor = xor ^ start\n",
    "            start+=2\n",
    "        return xor"
   ]
  }
 ],
 "metadata": {
  "kernelspec": {
   "display_name": "Python 3 (ipykernel)",
   "language": "python",
   "name": "python3"
  },
  "language_info": {
   "codemirror_mode": {
    "name": "ipython",
    "version": 3
   },
   "file_extension": ".py",
   "mimetype": "text/x-python",
   "name": "python",
   "nbconvert_exporter": "python",
   "pygments_lexer": "ipython3",
   "version": "3.9.12"
  }
 },
 "nbformat": 4,
 "nbformat_minor": 5
}
